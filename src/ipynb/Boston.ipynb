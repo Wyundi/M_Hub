{
 "cells": [
  {
   "cell_type": "code",
   "execution_count": 32,
   "id": "a446aad5",
   "metadata": {},
   "outputs": [],
   "source": [
    "import numpy as np\n",
    "import pandas as pd\n",
    "import matplotlib.pyplot as plt\n",
    "from sklearn.preprocessing import StandardScaler\n",
    "from sklearn.model_selection import train_test_split\n",
    "\n",
    "import torch\n",
    "import torch.nn as nn\n",
    "import torch.nn.functional as F\n",
    "from torch.utils.data import Dataset, DataLoader\n",
    "from torchinfo import summary\n",
    "\n",
    "import json"
   ]
  },
  {
   "cell_type": "code",
   "execution_count": 11,
   "id": "ed501aed",
   "metadata": {},
   "outputs": [
    {
     "name": "stdout",
     "output_type": "stream",
     "text": [
      "<class 'dict'>\n",
      "CRIM :  506\n",
      "ZN :  506\n",
      "INDUS :  506\n",
      "CHAS :  506\n",
      "NOX :  506\n",
      "RM :  506\n",
      "AGE :  506\n",
      "DIS :  506\n",
      "RAD :  506\n",
      "TAX :  506\n",
      "PTRATIO :  506\n",
      "B :  506\n",
      "LSTAT :  506\n",
      "MEDV :  506\n"
     ]
    }
   ],
   "source": [
    "# dataset\n",
    "\n",
    "boston_path = '../json_data/boston.json'\n",
    "with open(boston_path, 'r') as f:\n",
    "    boston_json = json.load(f)\n",
    "    \n",
    "print(type(boston_json))\n",
    "for key in boston_json.keys():\n",
    "    print(key, ': ', len(boston_json[key]))"
   ]
  },
  {
   "cell_type": "code",
   "execution_count": 12,
   "id": "3824dfb7",
   "metadata": {},
   "outputs": [
    {
     "name": "stdout",
     "output_type": "stream",
     "text": [
      "      CRIM    ZN  INDUS  CHAS    NOX     RM   AGE     DIS  RAD    TAX  \\\n",
      "0  0.00632  18.0   2.31     0  0.538  6.575  65.2  4.0900    1  296.0   \n",
      "1  0.02731   0.0   7.07     0  0.469  6.421  78.9  4.9671    2  242.0   \n",
      "2  0.02729   0.0   7.07     0  0.469  7.185  61.1  4.9671    2  242.0   \n",
      "3  0.03237   0.0   2.18     0  0.458  6.998  45.8  6.0622    3  222.0   \n",
      "4  0.06905   0.0   2.18     0  0.458  7.147  54.2  6.0622    3  222.0   \n",
      "\n",
      "   PTRATIO       B  LSTAT  MEDV  \n",
      "0     15.3  396.90   4.98  24.0  \n",
      "1     17.8  396.90   9.14  21.6  \n",
      "2     17.8  392.83   4.03  34.7  \n",
      "3     18.7  394.63   2.94  33.4  \n",
      "4     18.7  396.90   5.33  36.2  \n"
     ]
    }
   ],
   "source": [
    "boston_df = pd.DataFrame.from_dict(boston_json)\n",
    "print(boston_df.head())"
   ]
  },
  {
   "cell_type": "code",
   "execution_count": 36,
   "id": "ed9797ee",
   "metadata": {},
   "outputs": [
    {
     "name": "stdout",
     "output_type": "stream",
     "text": [
      "dataset shape:  (506, 14)\n",
      "x shape:  (480, 13) ,  (26, 13)\n",
      "y shape:  (480, 1) ,  (26, 1)\n"
     ]
    }
   ],
   "source": [
    "boston_np = np.array(boston_df)\n",
    "print(\"dataset shape: \", boston_np.shape)\n",
    "\n",
    "data_x = boston_np[:, :-1]\n",
    "data_y = boston_np[:, -1].reshape(-1, 1)\n",
    "\n",
    "x_train, x_test, y_train, y_test = train_test_split(data_x, data_y, test_size = 0.05)\n",
    "print(\"x shape: \", x_train.shape, \", \", x_test.shape)\n",
    "print(\"y shape: \", y_train.shape, \", \", y_test.shape)"
   ]
  },
  {
   "cell_type": "code",
   "execution_count": 39,
   "id": "a044d14a",
   "metadata": {},
   "outputs": [],
   "source": [
    "# norm\n",
    "\n",
    "x_scaler = StandardScaler()\n",
    "y_scaler = StandardScaler()\n",
    "x_scaler.fit(x_train)\n",
    "y_scaler.fit(y_train)\n",
    "\n",
    "x_train = x_scaler.transform(x_train)\n",
    "y_train = y_scaler.transform(y_train)\n",
    "x_test = x_scaler.transform(x_test)\n",
    "y_test = y_scaler.transform(y_test)"
   ]
  },
  {
   "cell_type": "code",
   "execution_count": 40,
   "id": "5660e1d9",
   "metadata": {},
   "outputs": [],
   "source": [
    "# dataset\n",
    "\n",
    "class dataset(Dataset):\n",
    "    \n",
    "    def __init__ (self, x, y):\n",
    "        self.x = x\n",
    "        self.y = y\n",
    "        self.data = list(zip(self.x, self.y))\n",
    "\n",
    "    def __getitem__(self, index):\n",
    "        assert index < len(self.data)\n",
    "        return self.data[index]\n",
    "\n",
    "    def __len__(self):\n",
    "        return len(self.data)"
   ]
  },
  {
   "cell_type": "code",
   "execution_count": 44,
   "id": "6d6ad517",
   "metadata": {},
   "outputs": [
    {
     "name": "stdout",
     "output_type": "stream",
     "text": [
      "boston_model(\n",
      "  (linear): Sequential(\n",
      "    (0): Linear(in_features=14, out_features=50, bias=True)\n",
      "    (1): ReLU()\n",
      "    (2): Linear(in_features=50, out_features=50, bias=True)\n",
      "    (3): ReLU()\n",
      "    (4): Linear(in_features=50, out_features=1, bias=True)\n",
      "  )\n",
      ")\n"
     ]
    }
   ],
   "source": [
    "class boston_model(nn.Module):\n",
    "    \n",
    "    def __init__(self, in_layer, out_layer):\n",
    "        super().__init__()\n",
    "        self.linear = nn.Sequential(\n",
    "            nn.Linear(in_layer, 50),\n",
    "            nn.ReLU(),\n",
    "            nn.Linear(50, 50),\n",
    "            nn.ReLU(),\n",
    "            nn.Linear(50, out_layer)\n",
    "            )\n",
    "        \n",
    "    def forward(self, x):\n",
    "        return self.linear(x)\n",
    "    \n",
    "model = boston_model(14, 1)\n",
    "print(model)"
   ]
  },
  {
   "cell_type": "code",
   "execution_count": null,
   "id": "8c0d348b",
   "metadata": {},
   "outputs": [],
   "source": [
    "# # helper function for classification\n",
    "\n",
    "# def calc_acc(out, labels):\n",
    "#     num = out.size(0)\n",
    "#     prediction = out.argmax(dim=1)\n",
    "#     return (prediction == labels).sum().item()/num\n",
    "\n",
    "# def evaluate(model, loss_func, dataloader):\n",
    "#     loss = 0\n",
    "#     acc = 0\n",
    "\n",
    "#     loss = []\n",
    "#     acc = []\n",
    "#     for step, (inputs, labels) in enumerate(dataloader):\n",
    "#         inputs = inputs.to(device)\n",
    "#         labels = labels.to(device)\n",
    "\n",
    "#         out = model(inputs)\n",
    "#         loss.append(loss_func(out, labels))\n",
    "#         acc.append(calc_acc(out, labels))\n",
    "\n",
    "#     loss = torch.mean(torch.tensor(loss))\n",
    "#     acc = torch.mean(torch.tensor(acc))\n",
    "#     return loss, acc"
   ]
  },
  {
   "cell_type": "code",
   "execution_count": null,
   "id": "6af08b38",
   "metadata": {},
   "outputs": [],
   "source": [
    "# helper function for regression\n",
    "\n",
    "def calc_acc(y_hat, y):\n",
    "    "
   ]
  }
 ],
 "metadata": {
  "kernelspec": {
   "display_name": "Python 3 (ipykernel)",
   "language": "python",
   "name": "python3"
  },
  "language_info": {
   "codemirror_mode": {
    "name": "ipython",
    "version": 3
   },
   "file_extension": ".py",
   "mimetype": "text/x-python",
   "name": "python",
   "nbconvert_exporter": "python",
   "pygments_lexer": "ipython3",
   "version": "3.9.7"
  }
 },
 "nbformat": 4,
 "nbformat_minor": 5
}
