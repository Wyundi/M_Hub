{
 "cells": [
  {
   "cell_type": "code",
   "execution_count": 33,
   "id": "6259f982",
   "metadata": {},
   "outputs": [],
   "source": [
    "import numpy as np\n",
    "import pandas as pd\n",
    "import matplotlib.pyplot as plt\n",
    "from sklearn.preprocessing import StandardScaler\n",
    "from sklearn.model_selection import train_test_split\n",
    "\n",
    "import torch\n",
    "import torch.nn as nn\n",
    "import torch.nn.functional as F\n",
    "from torch.utils.data import Dataset, DataLoader\n",
    "from torchinfo import summary\n",
    "\n",
    "import io\n",
    "import json\n",
    "import base64\n",
    "from PIL import Image"
   ]
  },
  {
   "cell_type": "code",
   "execution_count": 34,
   "id": "15419835",
   "metadata": {},
   "outputs": [
    {
     "name": "stdout",
     "output_type": "stream",
     "text": [
      "<class 'dict'>\n",
      "image_base64_string :  1000\n",
      "label :  1000\n"
     ]
    }
   ],
   "source": [
    "# dataset\n",
    "\n",
    "cat_path = '../json_data/cat.json'\n",
    "with open(cat_path, 'r') as f:\n",
    "    cat_json = json.load(f)\n",
    "    \n",
    "print(type(cat_json))\n",
    "for key in cat_json.keys():\n",
    "    print(key, ': ', len(cat_json[key]))"
   ]
  },
  {
   "cell_type": "code",
   "execution_count": 35,
   "id": "3125ef27",
   "metadata": {},
   "outputs": [
    {
     "name": "stdout",
     "output_type": "stream",
     "text": [
      "                                 image_base64_string  label\n",
      "0  /9j/4AAQSkZJRgABAQAAAQABAAD/2wBDAAoHBwgHBgoICA...      0\n",
      "1  /9j/4AAQSkZJRgABAQAAAQABAAD/2wBDAAoHBwgHBgoICA...      1\n",
      "2  /9j/4AAQSkZJRgABAQAAAQABAAD/2wBDAAoHBwgHBgoICA...      0\n",
      "3  /9j/4AAQSkZJRgABAQAAAQABAAD/2wBDAAoHBwgHBgoICA...      0\n",
      "4  /9j/4AAQSkZJRgABAQAAAQABAAD/2wBDAAoHBwgHBgoICA...      1\n"
     ]
    }
   ],
   "source": [
    "cat_df = pd.DataFrame.from_dict(cat_json)\n",
    "print(cat_df.head())"
   ]
  },
  {
   "cell_type": "code",
   "execution_count": 36,
   "id": "e1093eb1",
   "metadata": {},
   "outputs": [],
   "source": [
    "# print(cat_df.iloc[0].at['image_base64_string'])"
   ]
  },
  {
   "cell_type": "code",
   "execution_count": 42,
   "id": "3a4e31cc",
   "metadata": {},
   "outputs": [
    {
     "name": "stdout",
     "output_type": "stream",
     "text": [
      "<class '_io.BytesIO'>\n",
      "<class 'PIL.JpegImagePlugin.JpegImageFile'>\n"
     ]
    }
   ],
   "source": [
    "img = base64.b64decode(cat_df.iloc[0].at['image_base64_string'])\n",
    "img = io.BytesIO(img)\n",
    "img = Image.open(img)\n",
    "img.show()"
   ]
  },
  {
   "cell_type": "code",
   "execution_count": null,
   "id": "32209110",
   "metadata": {},
   "outputs": [],
   "source": []
  }
 ],
 "metadata": {
  "kernelspec": {
   "display_name": "Python 3",
   "language": "python",
   "name": "python3"
  },
  "language_info": {
   "codemirror_mode": {
    "name": "ipython",
    "version": 3
   },
   "file_extension": ".py",
   "mimetype": "text/x-python",
   "name": "python",
   "nbconvert_exporter": "python",
   "pygments_lexer": "ipython3",
   "version": "3.9.7"
  }
 },
 "nbformat": 4,
 "nbformat_minor": 5
}
