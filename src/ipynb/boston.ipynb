{
 "cells": [
  {
   "cell_type": "code",
   "execution_count": 1,
   "id": "3bc260dd",
   "metadata": {},
   "outputs": [],
   "source": [
    "import numpy as np\n",
    "import pandas as pd\n",
    "import matplotlib.pyplot as plt\n",
    "from sklearn.preprocessing import StandardScaler\n",
    "from sklearn.model_selection import train_test_split\n",
    "\n",
    "import torch\n",
    "import torch.nn as nn\n",
    "import torch.nn.functional as F\n",
    "from torch.utils.data import Dataset, DataLoader\n",
    "from torchinfo import summary\n",
    "\n",
    "import onnx\n",
    "import onnxruntime\n",
    "\n",
    "import io\n",
    "import json"
   ]
  },
  {
   "cell_type": "code",
   "execution_count": 2,
   "id": "a1937243",
   "metadata": {},
   "outputs": [
    {
     "name": "stdout",
     "output_type": "stream",
     "text": [
      "<class 'dict'>\n",
      "CRIM :  506\n",
      "ZN :  506\n",
      "INDUS :  506\n",
      "CHAS :  506\n",
      "NOX :  506\n",
      "RM :  506\n",
      "AGE :  506\n",
      "DIS :  506\n",
      "RAD :  506\n",
      "TAX :  506\n",
      "PTRATIO :  506\n",
      "B :  506\n",
      "LSTAT :  506\n",
      "MEDV :  506\n"
     ]
    }
   ],
   "source": [
    "# dataset\n",
    "\n",
    "boston_path = '../json_data/boston.json'\n",
    "with open(boston_path, 'r') as f:\n",
    "    boston_json = json.load(f)\n",
    "    \n",
    "print(type(boston_json))\n",
    "for key in boston_json.keys():\n",
    "    print(key, ': ', len(boston_json[key]))"
   ]
  },
  {
   "cell_type": "code",
   "execution_count": 3,
   "id": "53975824",
   "metadata": {},
   "outputs": [
    {
     "name": "stdout",
     "output_type": "stream",
     "text": [
      "      CRIM    ZN  INDUS  CHAS    NOX     RM   AGE     DIS  RAD    TAX  \\\n",
      "0  0.00632  18.0   2.31     0  0.538  6.575  65.2  4.0900    1  296.0   \n",
      "1  0.02731   0.0   7.07     0  0.469  6.421  78.9  4.9671    2  242.0   \n",
      "2  0.02729   0.0   7.07     0  0.469  7.185  61.1  4.9671    2  242.0   \n",
      "3  0.03237   0.0   2.18     0  0.458  6.998  45.8  6.0622    3  222.0   \n",
      "4  0.06905   0.0   2.18     0  0.458  7.147  54.2  6.0622    3  222.0   \n",
      "\n",
      "   PTRATIO       B  LSTAT  MEDV  \n",
      "0     15.3  396.90   4.98  24.0  \n",
      "1     17.8  396.90   9.14  21.6  \n",
      "2     17.8  392.83   4.03  34.7  \n",
      "3     18.7  394.63   2.94  33.4  \n",
      "4     18.7  396.90   5.33  36.2  \n"
     ]
    }
   ],
   "source": [
    "boston_df = pd.DataFrame.from_dict(boston_json)\n",
    "print(boston_df.head())"
   ]
  },
  {
   "cell_type": "code",
   "execution_count": 4,
   "id": "1b09c862",
   "metadata": {},
   "outputs": [
    {
     "name": "stdout",
     "output_type": "stream",
     "text": [
      "dataset shape:  (506, 14)\n",
      "x shape:  (379, 13) ,  (127, 13)\n",
      "y shape:  (379, 1) ,  (127, 1)\n"
     ]
    }
   ],
   "source": [
    "boston_np = np.array(boston_df)\n",
    "print(\"dataset shape: \", boston_np.shape)\n",
    "\n",
    "data_x = boston_np[:, :-1]\n",
    "data_y = boston_np[:, -1].reshape(-1, 1)\n",
    "\n",
    "x_train, x_test, y_train, y_test = train_test_split(data_x, data_y, test_size = 0.25)\n",
    "print(\"x shape: \", x_train.shape, \", \", x_test.shape)\n",
    "print(\"y shape: \", y_train.shape, \", \", y_test.shape)"
   ]
  },
  {
   "cell_type": "code",
   "execution_count": 5,
   "id": "c9caf39d",
   "metadata": {},
   "outputs": [],
   "source": [
    "# norm\n",
    "\n",
    "x_scaler = StandardScaler()\n",
    "y_scaler = StandardScaler()\n",
    "x_scaler.fit(x_train)\n",
    "y_scaler.fit(y_train)\n",
    "\n",
    "x_train = x_scaler.transform(x_train)\n",
    "y_train = y_scaler.transform(y_train)\n",
    "x_test = x_scaler.transform(x_test)\n",
    "y_test = y_scaler.transform(y_test)"
   ]
  },
  {
   "cell_type": "code",
   "execution_count": 6,
   "id": "1029b93d",
   "metadata": {},
   "outputs": [],
   "source": [
    "x_train = torch.tensor(x_train, dtype=torch.float32)\n",
    "y_train = torch.tensor(y_train, dtype=torch.float32)\n",
    "x_test = torch.tensor(x_test, dtype=torch.float32)\n",
    "y_test = torch.tensor(y_test, dtype=torch.float32)"
   ]
  },
  {
   "cell_type": "code",
   "execution_count": 7,
   "id": "08411db3",
   "metadata": {},
   "outputs": [],
   "source": [
    "# dataset\n",
    "\n",
    "class dataset(Dataset):\n",
    "    \n",
    "    def __init__ (self, x, y):\n",
    "        self.x = x\n",
    "        self.y = y\n",
    "        self.data = list(zip(self.x, self.y))\n",
    "\n",
    "    def __getitem__(self, index):\n",
    "        assert index < len(self.data)\n",
    "        return self.data[index]\n",
    "\n",
    "    def __len__(self):\n",
    "        return len(self.data)"
   ]
  },
  {
   "cell_type": "code",
   "execution_count": 8,
   "id": "c86d5ba8",
   "metadata": {},
   "outputs": [
    {
     "name": "stdout",
     "output_type": "stream",
     "text": [
      "boston_model(\n",
      "  (linear): Sequential(\n",
      "    (0): Linear(in_features=14, out_features=50, bias=True)\n",
      "    (1): ReLU()\n",
      "    (2): Linear(in_features=50, out_features=50, bias=True)\n",
      "    (3): ReLU()\n",
      "    (4): Linear(in_features=50, out_features=1, bias=True)\n",
      "  )\n",
      ")\n"
     ]
    }
   ],
   "source": [
    "class boston_model(nn.Module):\n",
    "    \n",
    "    def __init__(self, in_layer, out_layer):\n",
    "        super().__init__()\n",
    "        self.linear = nn.Sequential(\n",
    "            nn.Linear(in_layer, 50),\n",
    "            nn.ReLU(),\n",
    "            nn.Linear(50, 50),\n",
    "            nn.ReLU(),\n",
    "            nn.Linear(50, out_layer)\n",
    "            )\n",
    "        \n",
    "    def forward(self, x):\n",
    "        return self.linear(x)\n",
    "    \n",
    "model = boston_model(14, 1)\n",
    "print(model)"
   ]
  },
  {
   "cell_type": "code",
   "execution_count": 9,
   "id": "ad937769",
   "metadata": {},
   "outputs": [],
   "source": [
    "# # helper function for classification\n",
    "\n",
    "def calc_acc(out, labels):\n",
    "    num = out.size(0)\n",
    "    prediction = out.argmax(dim=1)\n",
    "    return (prediction == labels).sum().item()/num\n",
    "\n",
    "def evaluate(model, loss_func, dataloader, method='classification'):\n",
    "    loss = 0\n",
    "    acc = 0\n",
    "\n",
    "    loss = []\n",
    "    acc = []\n",
    "    for step, (inputs, labels) in enumerate(dataloader):\n",
    "        inputs = inputs.to(device)\n",
    "        labels = labels.to(device)\n",
    "\n",
    "        out = model(inputs)\n",
    "        loss.append(loss_func(out, labels))\n",
    "        \n",
    "        if method == 'classificaiton':\n",
    "            acc.append(calc_acc(out, labels))\n",
    "\n",
    "    loss = torch.mean(torch.tensor(loss))\n",
    "    \n",
    "    if method == 'classificaiton':\n",
    "        acc = torch.mean(torch.tensor(acc))\n",
    "        return loss, acc\n",
    "    elif method == 'regression':\n",
    "        return loss\n"
   ]
  },
  {
   "cell_type": "code",
   "execution_count": 10,
   "id": "6c311d63",
   "metadata": {},
   "outputs": [],
   "source": [
    "# Define a train function\n",
    "\n",
    "def train_model(model, train_dataset, test_dataset, batch = 256, epochs = 50,\n",
    "                lr = 0.005, class_weights = None, weight_decay = 0):\n",
    "\n",
    "    # train_history\n",
    "    train_history = {}\n",
    "    train_history['train_loss'] = []\n",
    "    train_history['test_loss'] = []\n",
    "\n",
    "    # set device\n",
    "    model = model.to(device)\n",
    "    \n",
    "    if class_weights != None:\n",
    "        class_weights = class_weights.to(device)\n",
    "\n",
    "    # Dataloader\n",
    "    train_dl = DataLoader(train_dataset, batch_size=batch, shuffle=True)\n",
    "    test_dl = DataLoader(test_dataset, batch_size=batch, shuffle=True)\n",
    "    \n",
    "    # optimzer and loss_func\n",
    "    optimzer = torch.optim.Adam(model.parameters(), lr=lr, betas=(0.9, 0.999), eps=1e-08, weight_decay=weight_decay, amsgrad=False)\n",
    "    loss_func = nn.MSELoss()\n",
    "\n",
    "    # train_process\n",
    "    for epoch in range(epochs):\n",
    "        \n",
    "        for step, (inputs, labels) in enumerate(train_dl):\n",
    "            inputs = inputs.to(device)\n",
    "            labels = labels.to(device)\n",
    "\n",
    "            out = model(inputs)\n",
    "            loss = loss_func(out, labels)\n",
    "            optimzer.zero_grad()\n",
    "            loss.backward()\n",
    "            optimzer.step()\n",
    "\n",
    "            # output\n",
    "            train_loss = evaluate(model, loss_func, train_dl, 'regression')\n",
    "            test_loss = evaluate(model, loss_func, test_dl, 'regression')\n",
    "            \n",
    "            print(  'Epoch:', epoch+1, '/', epochs, ', '\\\n",
    "                    'train_loss: {loss:.5f}, '.format(loss = train_loss), \\\n",
    "                    'test_loss: {loss:.5f}, '.format(loss = test_loss))\n",
    "\n",
    "            train_history['train_loss'].append(train_loss)\n",
    "            train_history['test_loss'].append(test_loss)\n",
    "  \n",
    "    return train_history\n"
   ]
  },
  {
   "cell_type": "code",
   "execution_count": 11,
   "id": "58f9c7f9",
   "metadata": {},
   "outputs": [],
   "source": [
    "# device\n",
    "device = torch.device(\"cuda\" if torch.cuda.is_available() else \"cpu\")"
   ]
  },
  {
   "cell_type": "code",
   "execution_count": 12,
   "id": "18e028ca",
   "metadata": {},
   "outputs": [],
   "source": [
    "train_dataset = dataset(x_train, y_train)\n",
    "test_dataset = dataset(x_test, y_test)\n",
    "\n",
    "batch = 10000\n",
    "epochs = 50\n",
    "lr = 0.005"
   ]
  },
  {
   "cell_type": "code",
   "execution_count": 13,
   "id": "3eeb3e34",
   "metadata": {},
   "outputs": [
    {
     "name": "stdout",
     "output_type": "stream",
     "text": [
      "==========================================================================================\n",
      "Layer (type:depth-idx)                   Output Shape              Param #\n",
      "==========================================================================================\n",
      "boston_model                             --                        --\n",
      "├─Sequential: 1-1                        [500, 1]                  --\n",
      "│    └─Linear: 2-1                       [500, 50]                 700\n",
      "│    └─ReLU: 2-2                         [500, 50]                 --\n",
      "│    └─Linear: 2-3                       [500, 50]                 2,550\n",
      "│    └─ReLU: 2-4                         [500, 50]                 --\n",
      "│    └─Linear: 2-5                       [500, 1]                  51\n",
      "==========================================================================================\n",
      "Total params: 3,301\n",
      "Trainable params: 3,301\n",
      "Non-trainable params: 0\n",
      "Total mult-adds (M): 1.65\n",
      "==========================================================================================\n",
      "Input size (MB): 0.03\n",
      "Forward/backward pass size (MB): 0.40\n",
      "Params size (MB): 0.01\n",
      "Estimated Total Size (MB): 0.44\n",
      "==========================================================================================\n",
      "Epoch: 1 / 50 , train_loss: 0.84137,  test_loss: 1.06781, \n",
      "Epoch: 2 / 50 , train_loss: 0.72349,  test_loss: 0.94719, \n",
      "Epoch: 3 / 50 , train_loss: 0.62584,  test_loss: 0.84371, \n",
      "Epoch: 4 / 50 , train_loss: 0.54937,  test_loss: 0.75379, \n",
      "Epoch: 5 / 50 , train_loss: 0.48909,  test_loss: 0.67377, \n",
      "Epoch: 6 / 50 , train_loss: 0.43607,  test_loss: 0.59489, \n",
      "Epoch: 7 / 50 , train_loss: 0.39222,  test_loss: 0.52148, \n",
      "Epoch: 8 / 50 , train_loss: 0.36462,  test_loss: 0.46415, \n",
      "Epoch: 9 / 50 , train_loss: 0.35044,  test_loss: 0.42607, \n",
      "Epoch: 10 / 50 , train_loss: 0.33449,  test_loss: 0.40010, \n",
      "Epoch: 11 / 50 , train_loss: 0.30858,  test_loss: 0.37946, \n",
      "Epoch: 12 / 50 , train_loss: 0.27878,  test_loss: 0.36687, \n",
      "Epoch: 13 / 50 , train_loss: 0.25451,  test_loss: 0.36550, \n",
      "Epoch: 14 / 50 , train_loss: 0.23830,  test_loss: 0.37026, \n",
      "Epoch: 15 / 50 , train_loss: 0.22719,  test_loss: 0.37034, \n",
      "Epoch: 16 / 50 , train_loss: 0.21901,  test_loss: 0.36253, \n",
      "Epoch: 17 / 50 , train_loss: 0.21138,  test_loss: 0.34868, \n",
      "Epoch: 18 / 50 , train_loss: 0.20096,  test_loss: 0.33118, \n",
      "Epoch: 19 / 50 , train_loss: 0.18829,  test_loss: 0.31303, \n",
      "Epoch: 20 / 50 , train_loss: 0.17781,  test_loss: 0.29823, \n",
      "Epoch: 21 / 50 , train_loss: 0.17252,  test_loss: 0.28919, \n",
      "Epoch: 22 / 50 , train_loss: 0.16960,  test_loss: 0.28368, \n",
      "Epoch: 23 / 50 , train_loss: 0.16475,  test_loss: 0.27833, \n",
      "Epoch: 24 / 50 , train_loss: 0.15687,  test_loss: 0.27277, \n",
      "Epoch: 25 / 50 , train_loss: 0.14844,  test_loss: 0.26917, \n",
      "Epoch: 26 / 50 , train_loss: 0.14216,  test_loss: 0.27020, \n",
      "Epoch: 27 / 50 , train_loss: 0.13883,  test_loss: 0.27603, \n",
      "Epoch: 28 / 50 , train_loss: 0.13697,  test_loss: 0.28329, \n",
      "Epoch: 29 / 50 , train_loss: 0.13491,  test_loss: 0.28732, \n",
      "Epoch: 30 / 50 , train_loss: 0.13178,  test_loss: 0.28484, \n",
      "Epoch: 31 / 50 , train_loss: 0.12829,  test_loss: 0.27644, \n",
      "Epoch: 32 / 50 , train_loss: 0.12543,  test_loss: 0.26551, \n",
      "Epoch: 33 / 50 , train_loss: 0.12285,  test_loss: 0.25546, \n",
      "Epoch: 34 / 50 , train_loss: 0.11938,  test_loss: 0.24838, \n",
      "Epoch: 35 / 50 , train_loss: 0.11527,  test_loss: 0.24505, \n",
      "Epoch: 36 / 50 , train_loss: 0.11211,  test_loss: 0.24530, \n",
      "Epoch: 37 / 50 , train_loss: 0.11069,  test_loss: 0.24709, \n",
      "Epoch: 38 / 50 , train_loss: 0.10978,  test_loss: 0.24764, \n",
      "Epoch: 39 / 50 , train_loss: 0.10812,  test_loss: 0.24596, \n",
      "Epoch: 40 / 50 , train_loss: 0.10593,  test_loss: 0.24424, \n",
      "Epoch: 41 / 50 , train_loss: 0.10391,  test_loss: 0.24481, \n",
      "Epoch: 42 / 50 , train_loss: 0.10237,  test_loss: 0.24830, \n",
      "Epoch: 43 / 50 , train_loss: 0.10087,  test_loss: 0.25300, \n",
      "Epoch: 44 / 50 , train_loss: 0.09896,  test_loss: 0.25669, \n",
      "Epoch: 45 / 50 , train_loss: 0.09709,  test_loss: 0.25819, \n",
      "Epoch: 46 / 50 , train_loss: 0.09571,  test_loss: 0.25775, \n",
      "Epoch: 47 / 50 , train_loss: 0.09445,  test_loss: 0.25622, \n",
      "Epoch: 48 / 50 , train_loss: 0.09275,  test_loss: 0.25358, \n",
      "Epoch: 49 / 50 , train_loss: 0.09102,  test_loss: 0.24997, \n",
      "Epoch: 50 / 50 , train_loss: 0.08975,  test_loss: 0.24521, \n"
     ]
    }
   ],
   "source": [
    "\"\"\"\n",
    "Train Model\n",
    "\"\"\"\n",
    "\n",
    "# load model\n",
    "model = boston_model(13, 1)\n",
    "print(summary(model, (500, 13)))\n",
    "\n",
    "# train\n",
    "hist = train_model(model, train_dataset, test_dataset, batch, epochs, lr)"
   ]
  },
  {
   "cell_type": "code",
   "execution_count": 14,
   "id": "7864ee99",
   "metadata": {},
   "outputs": [
    {
     "data": {
      "image/png": "[encoded data removed]",
      "text/plain": [
       "<Figure size 432x288 with 1 Axes>"
      ]
     },
     "metadata": {
      "needs_background": "light"
     },
     "output_type": "display_data"
    }
   ],
   "source": [
    "# Plot loss curves\n",
    "epochs = range(1, len(hist['train_loss']) + 1)\n",
    "plt.plot(epochs, hist['train_loss'], 'r-', label='train')\n",
    "plt.plot(epochs, hist['test_loss'], 'b-', label='test')\n",
    "\n",
    "plt.title('Loss curves')\n",
    "plt.xlabel('Epochs')\n",
    "plt.ylabel('Loss')\n",
    "plt.legend()\n",
    "\n",
    "plt.show()"
   ]
  },
  {
   "cell_type": "markdown",
   "id": "6583b8bd",
   "metadata": {},
   "source": [
    "## export model to onnx"
   ]
  },
  {
   "cell_type": "code",
   "execution_count": 15,
   "id": "2458005a",
   "metadata": {},
   "outputs": [
    {
     "name": "stdout",
     "output_type": "stream",
     "text": [
      "boston_model(\n",
      "  (linear): Sequential(\n",
      "    (0): Linear(in_features=13, out_features=50, bias=True)\n",
      "    (1): ReLU()\n",
      "    (2): Linear(in_features=50, out_features=50, bias=True)\n",
      "    (3): ReLU()\n",
      "    (4): Linear(in_features=50, out_features=1, bias=True)\n",
      "  )\n",
      ")\n"
     ]
    }
   ],
   "source": [
    "model = model.to('cpu')\n",
    "torch_model = model.eval()\n",
    "print(torch_model)\n",
    "\n",
    "# model input\n",
    "x = torch.randn(1, 13, requires_grad=True)\n",
    "torch_out = torch_model(x)"
   ]
  },
  {
   "cell_type": "code",
   "execution_count": 16,
   "id": "aef06f11",
   "metadata": {},
   "outputs": [],
   "source": [
    "# Export model\n",
    "onnx_path = '../onnx/boston.onnx'\n",
    "torch.onnx.export(model, x, onnx_path, export_params=True, do_constant_folding=True,\n",
    "                  input_names=['input'], output_names=['output'])"
   ]
  },
  {
   "cell_type": "code",
   "execution_count": 17,
   "id": "d4bdb076",
   "metadata": {},
   "outputs": [],
   "source": [
    "# test onnx model\n",
    "\n",
    "onnx_model = onnx.load(onnx_path)\n",
    "check_res = onnx.checker.check_model(onnx_model)"
   ]
  },
  {
   "cell_type": "code",
   "execution_count": 18,
   "id": "6e90b299",
   "metadata": {},
   "outputs": [
    {
     "name": "stdout",
     "output_type": "stream",
     "text": [
      "{'input': array([[ 1.6706089 , -1.5381882 , -0.50014544, -1.1121938 ,  0.48236987,\n",
      "         1.8618037 ,  0.15206745,  1.1722231 ,  0.26333523, -0.17503947,\n",
      "        -1.1106174 , -0.46573517,  0.9806476 ]], dtype=float32)}\n"
     ]
    }
   ],
   "source": [
    "ort_session = onnxruntime.InferenceSession(onnx_path)\n",
    "def to_numpy(tensor):\n",
    "    return tensor.detach().cpu().numpy() if tensor.requires_grad else tensor.cpu().numpy()\n",
    "\n",
    "ort_inputs = {ort_session.get_inputs()[0].name: to_numpy(x)}\n",
    "print(ort_inputs)\n",
    "ort_outs = ort_session.run(None, ort_inputs)\n",
    "\n",
    "np.testing.assert_allclose(to_numpy(torch_out), ort_outs[0], rtol=1e-03, atol=1e-05)"
   ]
  },
  {
   "cell_type": "code",
   "execution_count": 19,
   "id": "54276f69",
   "metadata": {},
   "outputs": [
    {
     "name": "stdout",
     "output_type": "stream",
     "text": [
      "tensor([[-0.4272]], grad_fn=<AddmmBackward0>)\n",
      "[array([[-0.42716277]], dtype=float32)]\n"
     ]
    }
   ],
   "source": [
    "print(torch_out)\n",
    "print(ort_outs)"
   ]
  },
  {
   "cell_type": "code",
   "execution_count": 20,
   "id": "68748a2b",
   "metadata": {},
   "outputs": [
    {
     "name": "stdout",
     "output_type": "stream",
     "text": [
      "torch.Size([1, 1])\n"
     ]
    }
   ],
   "source": [
    "print(torch_out.size())"
   ]
  },
  {
   "cell_type": "code",
   "execution_count": null,
   "id": "f8aacb6a",
   "metadata": {},
   "outputs": [],
   "source": []
  }
 ],
 "metadata": {
  "kernelspec": {
   "display_name": "Python 3",
   "language": "python",
   "name": "python3"
  },
  "language_info": {
   "codemirror_mode": {
    "name": "ipython",
    "version": 3
   },
   "file_extension": ".py",
   "mimetype": "text/x-python",
   "name": "python",
   "nbconvert_exporter": "python",
   "pygments_lexer": "ipython3",
   "version": "3.9.7"
  }
 },
 "nbformat": 4,
 "nbformat_minor": 5
}
